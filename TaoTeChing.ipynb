{
 "cells": [
  {
   "cell_type": "code",
   "execution_count": 1,
   "id": "f732676e-38be-4b1c-b03c-d872c50f5e95",
   "metadata": {},
   "outputs": [],
   "source": [
    "from openai import OpenAI\n",
    "from datetime import datetime\n",
    "import hashlib\n",
    "import re\n",
    "import os\n",
    "from tqdm import tqdm\n",
    "import numpy as np\n",
    "from bs4 import BeautifulSoup\n",
    "from urllib.request import urlopen\n",
    "import logging\n",
    "from pinecone import Pinecone, PodSpec\n",
    "from typing import List\n",
    "import configparser\n",
    "# import erdantic\n",
    "\n",
    "logger = logging.getLogger()\n",
    "logger.setLevel(logging.DEBUG)"
   ]
  },
  {
   "cell_type": "code",
   "execution_count": 2,
   "id": "69444f30-5720-46c1-8588-7415e5b4c108",
   "metadata": {},
   "outputs": [],
   "source": [
    "config = configparser.ConfigParser()\n",
    "config.read('config.ini')\n",
    "PINECONE_INDEX_NAME = config['DEFAULT']['PineconeIndexName']\n",
    "NAMESPACE = config['DEFAULT']['Namespace']\n",
    "EMBEDDING_MODEL = config['DEFAULT']['EmbeddingModel']\n",
    "ENVIRONMENT = config['DEFAULT']['Environment']"
   ]
  },
  {
   "cell_type": "code",
   "execution_count": 34,
   "id": "057c2ff6-328d-4453-a0b6-0c12c731bb35",
   "metadata": {},
   "outputs": [],
   "source": [
    "class MissingEnvironmentVariable(Exception):\n",
    "    pass\n",
    "    \n",
    "class PineconeConnection():\n",
    "    \"\"\"Gets pinecone key from the environment and passes it to Pinecone.  Performs Pinecone-related tasks.\"\"\"\n",
    "\n",
    "    def __init__(self, pinecone_index_name: str = PINECONE_INDEX_NAME, env: str = ENVIRONMENT, namespace: str = NAMESPACE):\n",
    "        \"\"\"\n",
    "        Keyword Arguments:\n",
    "        pinecone_index_name -- An index is like a table.  It will be created in the Pinecone vector database if it does not already exist.\n",
    "        env -- An environment can contain multiple indexes, but in this case it only needs one.\n",
    "        namespace -- An index can contain multiple namespaces, but in this case it only needs one.\n",
    "        \"\"\"\n",
    "        pinecone_key = os.environ.get('PINECONE_API_KEY', False)\n",
    "        self._pinecone_index_name = pinecone_index_name\n",
    "        self._namespace = namespace\n",
    "        self._env = env\n",
    "        if pinecone_key:\n",
    "            self._pc = Pinecone(api_key=pinecone_key, environment=env)\n",
    "        else:\n",
    "            raise MissingEnvironmentVariable(\"PROBLEM: no PINECONE_API_KEY in environment\")\n",
    "\n",
    "    def create_pinecone_index(self):\n",
    "        \"\"\"Creates an index in Pinecone, which is like a table, and store it in a member variable.\"\"\"\n",
    "        list_indexes = self._pc.list_indexes()\n",
    "        list_names = [x['name'] for x in list_indexes.indexes]\n",
    "        if not self._pinecone_index_name in list_names:\n",
    "            pc.create_index(name=self._pinecone_index_name, dimension=embedding_dimension, metric='cosine', spec=PodSpec(environment=self._env, pod_type='p1.x1'))\n",
    "        self._pinecone_index = self._pc.Index(self._pinecone_index_name)\n",
    "\n",
    "    def upsert_documents(self, documents: List[str], oaic: 'OpenAIConnection'):\n",
    "        \"\"\"\n",
    "        Arguments:\n",
    "        documents -- a list of documents to upsert\n",
    "        Keyword Arguments:\n",
    "        oaic -- an OpenAIConnection tp which the documents will be upserted\n",
    "        \"\"\"\n",
    "        now = datetime.utcnow()\n",
    "    \n",
    "        embeddings = oaic.get_embeddings_from_response(oaic.get_response_from_documents(documents))\n",
    "    \n",
    "        pinecone_list = list()\n",
    "        for emb, doc in zip(embeddings, documents):\n",
    "            pinecone_list.append(\n",
    "                {\n",
    "                    \"id\": hashlib_sha(doc),\n",
    "                    \"values\": emb,\n",
    "                    \"metadata\": {\"doc\": doc, \"timestamp\": now}\n",
    "                }\n",
    "            ) \n",
    "    \n",
    "        total_upserted = self._pinecone_index.upsert(\n",
    "            vectors=pinecone_list,\n",
    "            namespace=self._namespace\n",
    "        )['upserted_count']\n",
    "    \n",
    "        return total_upserted\n",
    "\n",
    "    def choose_document_from_pinecone(self, query: str, oaic: 'OpenAIConnection', top_k: int = 3):\n",
    "        # get embedding from THE SAME embedder as the documents\n",
    "        query_embedding = oaic.get_embedding_from_document(query)\n",
    "    \n",
    "        return self._pinecone_index.query(\n",
    "          vector=query_embedding,\n",
    "          top_k=top_k,\n",
    "          namespace=self._namespace,\n",
    "          include_metadata=True\n",
    "        ).get('matches')\n",
    "\n",
    "    def delete_documents(self, documents: List[str]):\n",
    "        hashes = [hashlib_sha(doc) for doc in documents]\n",
    "        return self._pinecone_index.delete(ids=hashes, namespace=self._namespace)\n",
    "\n",
    "class OpenAIConnection:\n",
    "    \"\"\"Gets Open AI key from the environment and passes it to OpenAI.  Performs OpenAI-related tasks.\"\"\"\n",
    "\n",
    "    model: str\n",
    "    \n",
    "    def __init__(self, model: str = EMBEDDING_MODEL):\n",
    "        api_key = os.environ.get(\"OPENAI_API_KEY\", False)\n",
    "        self._model = model\n",
    "        if api_key:\n",
    "            self.client = OpenAI(api_key=api_key)\n",
    "        else:\n",
    "            raise MissingEnvironmentVariable(\"PROBLEM: no OPENAI_API_KEY in environment\")\n",
    "        self.embedding_dimension = len(self.get_embedding_from_document('these are some words to test the embedding dimension'))\n",
    "    \n",
    "    def get_response_from_documents(self, documents: List[str]):\n",
    "        \"\"\"\n",
    "        Arguments:\n",
    "        documents -- A list of documents (strings) that will be parsed by the model, returning embeddings in the form of a response\n",
    "        model -- The model that parses the documents\n",
    "        \"\"\"\n",
    "        return self.client.embeddings.create(input = documents, model = self._model)\n",
    "\n",
    "    def get_embeddings_from_response(self, resp) -> List[List[float]]:\n",
    "        \"\"\"\n",
    "        Returns a list of embeddings\n",
    "        Arguments:\n",
    "        resp -- A response that contains embeddings in resp.data\n",
    "        \"\"\"\n",
    "        return [item.embedding for item in resp.data]\n",
    "\n",
    "    def get_embedding_from_document(self, document: str) -> List[float]:\n",
    "        \"\"\"\n",
    "        Arguments:\n",
    "        document -- A str that will be used to create on embedding\n",
    "        \"\"\"\n",
    "        return self.get_embeddings_from_response(self.get_response_from_documents([document]))[0]"
   ]
  },
  {
   "cell_type": "code",
   "execution_count": 30,
   "id": "12d9470c-fe9e-4f42-915c-f5798ffe862d",
   "metadata": {},
   "outputs": [
    {
     "name": "stdout",
     "output_type": "stream",
     "text": [
      "768d2bb50eca2cb375e681635b7a4082b65a8868d1be9fae718d26382d5c947b\n"
     ]
    }
   ],
   "source": [
    "def hashlib_sha(somestring: str) -> str:\n",
    "    \"\"\"\n",
    "    Arguments:\n",
    "    somestring -- We will make a hash of this string\n",
    "    Return value:\n",
    "    The hash\n",
    "    \"\"\"\n",
    "    sha = hashlib.sha256()\n",
    "    sha.update(somestring.encode())\n",
    "    return sha.hexdigest()\n",
    "\n",
    "print(hashlib_sha('Make a hash of this string'))"
   ]
  },
  {
   "cell_type": "code",
   "execution_count": 41,
   "id": "afd121f5-f0f8-4200-a8cd-796d12c945a3",
   "metadata": {},
   "outputs": [],
   "source": [
    "def make_ttc_list(print_list : bool = False) -> List[str]:\n",
    "    \"\"\"\n",
    "    Return value:\n",
    "    A list of Tao Te Ching passages from wikisource\n",
    "    \"\"\"\n",
    "    ttc_list = list()\n",
    "    with urlopen('https://en.wikisource.org/wiki/Translation:Tao_Te_Ching') as response:\n",
    "        soup = BeautifulSoup(response, 'html.parser')\n",
    "        num = 1\n",
    "        for anchor in soup.find_all('p'):\n",
    "            if(re.match(\"[a-zA-Z]\", anchor.text[0]) and \"Note:\" not in anchor.text):\n",
    "                if(print_list):\n",
    "                    print(num)\n",
    "                    print(\"---------------\")\n",
    "                    print(anchor.text)\n",
    "                num += 1\n",
    "                ttc_list.append(str(num) + \". \" + anchor.text)\n",
    "                if(print_list):\n",
    "                    print(\"---------------\")\n",
    "            if(\"Truthful words are not pleasant,\" in anchor.text):\n",
    "                break\n",
    "    return ttc_list"
   ]
  },
  {
   "cell_type": "code",
   "execution_count": 42,
   "id": "25473b6a-96fa-4129-a7fe-ead07c4ec99e",
   "metadata": {
    "scrolled": true
   },
   "outputs": [],
   "source": [
    "def main():\n",
    "    ttc_list = make_ttc_list()\n",
    "    my_pc = PineconeConnection()\n",
    "    my_pc.create_pinecone_index()\n",
    "    my_oaic = OpenAIConnection()\n",
    "    print(\"Now testing Pinecone.  This may require a slight wait, while pinecone does the upsert.\")\n",
    "    my_pc.upsert_documents(ttc_list, my_oaic)\n",
    "    my_pc.choose_document_from_pinecone('What is the Tao?', my_oaic, top_k = 1)\n",
    "    print(\"Test is done.\")\n",
    "    print(\"Enter your question:\")\n",
    "    x = input()\n",
    "    pinecone_response = my_pc.choose_document_from_pinecone(x, my_oaic, top_k  = 1)\n",
    "    text = pinecone_response[0][\"metadata\"][\"doc\"]\n",
    "    query = f\"\"\"\n",
    "    I have a question as well as a quote from the Tao Te Ching.  Please answer the question using the quote, and explain how the quote\n",
    "    suggests your answer.  The question is: {x}\n",
    "    And the quote from the Tao Te Ching is:\n",
    "    -----------\n",
    "    {text}\n",
    "    -----------\n",
    "    Now please answer the question with reference to the information in the quote.\"\"\"\n",
    "    chat_completion = my_oaic.client.chat.completions.create(\n",
    "        messages=[\n",
    "            {\n",
    "                \"role\": \"user\",\n",
    "                \"content\": query,\n",
    "            }\n",
    "        ],\n",
    "        model=\"gpt-3.5-turbo\",\n",
    "    )\n",
    "    print(\"ANSWER TO YOUR QUESTION\")\n",
    "    print(chat_completion)\n",
    "    print(\"I USED THE FOLLOWING QUOTE FROM THE TAO TE CHING\")\n",
    "    print(text)"
   ]
  },
  {
   "cell_type": "code",
   "execution_count": 44,
   "id": "65c35132-e6c5-4e1b-9fd7-9be1cff11dbf",
   "metadata": {},
   "outputs": [
    {
     "name": "stdout",
     "output_type": "stream",
     "text": [
      "Now testing Pinecone.  This may require a slight wait, while pinecone does the upsert.\n"
     ]
    },
    {
     "name": "stderr",
     "output_type": "stream",
     "text": [
      "/var/folders/7g/w7l8k8x95msf7xpymhmw0vj40000gn/T/ipykernel_14133/6881793.py:38: DeprecationWarning: datetime.datetime.utcnow() is deprecated and scheduled for removal in a future version. Use timezone-aware objects to represent datetimes in UTC: datetime.datetime.now(datetime.UTC).\n",
      "  now = datetime.utcnow()\n"
     ]
    },
    {
     "name": "stdout",
     "output_type": "stream",
     "text": [
      "Test is done.\n",
      "Enter your question:\n"
     ]
    },
    {
     "name": "stdin",
     "output_type": "stream",
     "text": [
      " One translation says that in the degradation of the Tao come benevolence and righteousness.  What does that mean?\n"
     ]
    },
    {
     "name": "stdout",
     "output_type": "stream",
     "text": [
      "ANSWER TO YOUR QUESTION\n",
      "ChatCompletion(id='chatcmpl-8q0xL0ZbeBVYtmouhN5R3fmsqgbCx', choices=[Choice(finish_reason='stop', index=0, logprobs=None, message=ChatCompletionMessage(content='This quote from the Tao Te Ching suggests that when the Dao, or the natural way of things, is lost or degraded, certain qualities and virtues emerge as a reaction. Specifically, it mentions that benevolence and righteousness arise in the degradation of the Tao.\\n\\nOne possible interpretation of this is that when people lose their connection to the natural flow of life represented by the Dao, they may start to feel a sense of inner emptiness or imbalance. In an attempt to regain that lost harmony, individuals may consciously or unconsciously embrace virtues like benevolence and righteousness.\\n\\nThe emergence of benevolence can be understood as a desire to do good and help others. When people feel disconnected from the Dao, they may recognize the need to foster compassion and kindness towards others as a way to restore balance and harmony. Similarly, righteousness can be seen as the inclination to act morally and ethically, in accordance with principles that align with the Dao.\\n\\nThe quote also mentions that when prudence and wisdom arise, there is great hypocrisy. This suggests that when individuals try to compensate for the lost connection to the Dao through knowledge and intellectual understanding alone, they may become overly self-righteous or hypocritical in their actions. This implies that true benevolence and righteousness should stem from a genuine alignment with the Dao, rather than just intellectual reasoning.\\n\\nIn summary, the quote suggests that in the degradation of the Tao, benevolence and righteousness may surface as attempts to restore harmony and balance. However, it also warns against relying solely on intellectual knowledge or superficial acts of virtue, emphasizing the importance of a genuine connection with the natural order of things represented by the Dao.', role='assistant', function_call=None, tool_calls=None))], created=1707407423, model='gpt-3.5-turbo-0613', object='chat.completion', system_fingerprint=None, usage=CompletionUsage(completion_tokens=330, prompt_tokens=172, total_tokens=502))\n",
      "I USED THE FOLLOWING QUOTE FROM THE TAO TE CHING\n",
      "19. When the Dao is lost, so there arises benevolence and righteousness. \n",
      "When prudence and wisdom appear, there is great hypocrisy. \n",
      "When family relations are not right, there is filial piety and paternal affection. \n",
      "When the state is confused and chaotic, there is loyalty and faithfulness.\n",
      "\n"
     ]
    }
   ],
   "source": [
    "main()"
   ]
  },
  {
   "cell_type": "code",
   "execution_count": 14,
   "id": "5bc16f96-8bf3-4b6a-abcb-8fafd50f6c22",
   "metadata": {},
   "outputs": [
    {
     "name": "stdout",
     "output_type": "stream",
     "text": [
      "Enter your question:\n"
     ]
    },
    {
     "name": "stdin",
     "output_type": "stream",
     "text": [
      " Do students learn better by reading books or by performing homework exercises?\n"
     ]
    },
    {
     "name": "stdout",
     "output_type": "stream",
     "text": [
      "ANSWER TO YOUR QUESTION\n",
      "ChatCompletion(id='chatcmpl-8iTmXFC0ZgYg7flYjPAG4sclKzLoa', choices=[Choice(finish_reason='stop', index=0, logprobs=None, message=ChatCompletionMessage(content='According to the quote from the Tao Te Ching, students may learn better by performing homework exercises rather than just reading books. The quote emphasizes the importance of practice and taking action. It suggests that through practice (in this case, doing homework exercises), there is always something to gain, implying that active engagement with the material leads to growth and learning. On the other hand, the quote implies that those who are preoccupied (potentially with just reading books) cannot master the universe (representing knowledge or understanding). \\n\\nIn applying this to the question at hand, students may benefit more from performing homework exercises rather than solely relying on reading books. While reading books can provide valuable information, it is through practical application, such as doing exercises and actively engaging with the content, that students can truly deepen their understanding and consolidate their knowledge. By taking action and putting the learned concepts into practice, students are more likely to retain the information, develop critical thinking skills, and gain a better understanding of how to apply the knowledge in real-world situations.', role='assistant', function_call=None, tool_calls=None))], created=1705611605, model='gpt-3.5-turbo-0613', object='chat.completion', system_fingerprint=None, usage=CompletionUsage(completion_tokens=207, prompt_tokens=164, total_tokens=371))\n",
      "I USED THE FOLLOWING QUOTE FROM THE TAO TE CHING\n",
      "49. Practicing scholarships, everyday there is something to gain,\n",
      "Practicing the Dao, everyday there is something to lose;\n",
      "When you lose all that can be lost,\n",
      "You may be without action.\n",
      "Act not and leave none to be acted upon!\n",
      "Therefore those who can master the universe,\n",
      "Often remain unoccupied;\n",
      "Those who are preoccupied,\n",
      "Cannot master the universe.\n",
      "\n"
     ]
    }
   ],
   "source": [
    "print(\"Now deleting documents - run this command when you are done.\")\n",
    "my_pc.delete_documents(ttc_lst)"
   ]
  }
 ],
 "metadata": {
  "kernelspec": {
   "display_name": "Python 3 (ipykernel)",
   "language": "python",
   "name": "python3"
  },
  "language_info": {
   "codemirror_mode": {
    "name": "ipython",
    "version": 3
   },
   "file_extension": ".py",
   "mimetype": "text/x-python",
   "name": "python",
   "nbconvert_exporter": "python",
   "pygments_lexer": "ipython3",
   "version": "3.12.0"
  }
 },
 "nbformat": 4,
 "nbformat_minor": 5
}
